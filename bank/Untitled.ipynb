{
 "cells": [
  {
   "cell_type": "code",
   "execution_count": 1,
   "metadata": {},
   "outputs": [],
   "source": [
    "from flask import Flask, render_template, url_for, request\n",
    "import numpy as np\n",
    "import pickle"
   ]
  },
  {
   "cell_type": "code",
   "execution_count": 2,
   "metadata": {},
   "outputs": [
    {
     "name": "stdout",
     "output_type": "stream",
     "text": [
      " * Serving Flask app \"__main__\" (lazy loading)\n",
      " * Environment: production\n",
      "\u001b[31m   WARNING: This is a development server. Do not use it in a production deployment.\u001b[0m\n",
      "\u001b[2m   Use a production WSGI server instead.\u001b[0m\n",
      " * Debug mode: on\n"
     ]
    },
    {
     "name": "stderr",
     "output_type": "stream",
     "text": [
      " * Restarting with windowsapi reloader\n"
     ]
    },
    {
     "ename": "SystemExit",
     "evalue": "1",
     "output_type": "error",
     "traceback": [
      "An exception has occurred, use %tb to see the full traceback.\n",
      "\u001b[1;31mSystemExit\u001b[0m\u001b[1;31m:\u001b[0m 1\n"
     ]
    },
    {
     "name": "stderr",
     "output_type": "stream",
     "text": [
      "C:\\Users\\STEPHEN\\anaconda3\\lib\\site-packages\\IPython\\core\\interactiveshell.py:3339: UserWarning: To exit: use 'exit', 'quit', or Ctrl-D.\n",
      "  warn(\"To exit: use 'exit', 'quit', or Ctrl-D.\", stacklevel=1)\n"
     ]
    }
   ],
   "source": [
    "# load the model from disk\n",
    "filename = 'TheLogistic'\n",
    "clf = pickle.load(open(filename, 'rb'))\n",
    "\n",
    "app = Flask(__name__, template_folder='template')\n",
    "\n",
    "@app.route('/')\n",
    "def home():\n",
    "\treturn render_template('index.html')\n",
    "\n",
    "@app.route('/predict', methods = ['POST'])\n",
    "def predict():\n",
    "\tif request.method == 'POST':\n",
    "\t\tage = request.form['age']\n",
    "\t\tdefault = request.form['default']\n",
    "\t\tbalance = request.form['balance']\n",
    "\t\thouse = request.form['housing']\n",
    "\t\tloan = request.form['loan']\n",
    "\t\tcont = request.form['contact']\n",
    "\t\tday = request.form['day']\n",
    "\t\tmnth = request.form['month']\n",
    "\t\tdura = request.form['duration']\n",
    "\t\tcamp = request.form['campaign']\n",
    "\t\tprev = request.form['previous']\n",
    "\t\tpout = request.form['poutcome']\n",
    "\t\tadmin = request.form['admin']\n",
    "\t\tblue = request.form['blue']\n",
    "\t\tentre = request.form['entre']\n",
    "\t\tmaid = request.form['maid']\n",
    "\t\tmanage = request.form['manage']\n",
    "\t\tretire = request.form['retired']\n",
    "\t\tsel = request.form['self']\n",
    "\t\tserve = request.form['services']\n",
    "\t\tstu = request.form['student']\n",
    "\t\ttech = request.form['tech']\n",
    "\t\tunem = request.form['unemployed']\n",
    "\t\tunk = request.form['unknown']\n",
    "\t\tdivorce = request.form['divorced']\n",
    "\t\tmarry = request.form['married']\n",
    "\t\tsingle = request.form['single']\n",
    "\t\tpry = request.form['primary']\n",
    "\t\tsec = request.form['secondary']\n",
    "\t\ttertiary = request.form['tertiary']\n",
    "\t\teduknown = request.form['eduknown']\n",
    "\t\tdata = np.array([[age ,default, balance , house , loan , cont , day , mnth , dura , camp , prev , pout , admin, blue, entre, maid, manage, retire, sel, serve, stu, tech, unem, unk, divorce, marry, single, pry, sec, tertiary, eduknown ]])\n",
    "\t\tinputFeature = np.asarray(data).reshape(1,-1)\n",
    "\t\tmy_prediction = clf.predict(inputFeature)\n",
    "\t   \n",
    "\t\t\n",
    "\treturn render_template('result.html',prediction = my_prediction)\n",
    "\n",
    "\n",
    "if __name__ == '__main__':\n",
    "\tapp.run(debug=True)"
   ]
  },
  {
   "cell_type": "code",
   "execution_count": null,
   "metadata": {},
   "outputs": [],
   "source": []
  }
 ],
 "metadata": {
  "kernelspec": {
   "display_name": "Python 3",
   "language": "python",
   "name": "python3"
  },
  "language_info": {
   "codemirror_mode": {
    "name": "ipython",
    "version": 3
   },
   "file_extension": ".py",
   "mimetype": "text/x-python",
   "name": "python",
   "nbconvert_exporter": "python",
   "pygments_lexer": "ipython3",
   "version": "3.7.6"
  }
 },
 "nbformat": 4,
 "nbformat_minor": 4
}
